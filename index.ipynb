{
 "cells": [
  {
   "cell_type": "markdown",
   "metadata": {},
   "source": [
    "# APIs - Cumulative Lab\n",
    "\n",
    "\n",
    "## Introduction \n",
    "\n",
    "We've seen how the Yelp API works and how to create basic visualizations using Folium. It's time to put those skills to work in order to create a working map! Taking things a step further, you'll also independently explore how to perform pagination in order to retrieve a full results set from the Yelp API.\n",
    "\n",
    "## Objectives\n",
    "\n",
    "You will be able to: \n",
    "\n",
    "* Practice using functions to organize your code\n",
    "* Use pagination to retrieve all results from an API query\n",
    "* Practice parsing data returned from an API query\n",
    "* Practice interpreting visualizations of a dataset\n",
    "* Create maps using Folium"
   ]
  },
  {
   "cell_type": "markdown",
   "metadata": {},
   "source": [
    "## Your Task: Query Yelp for All Businesses in a Category and Analyze the Results\n",
    "\n",
    "![restaurant counter with pizza](images/restaurant_counter.jpg)\n",
    "\n",
    "Photo by <a href=\"https://unsplash.com/@jordanmadrid?utm_source=unsplash&utm_medium=referral&utm_content=creditCopyText\">Jordan Madrid</a> on <a href=\"/s/photos/pizza-restaurant?utm_source=unsplash&utm_medium=referral&utm_content=creditCopyText\">Unsplash</a>"
   ]
  },
  {
   "cell_type": "markdown",
   "metadata": {},
   "source": [
    "### Overview\n",
    "\n",
    "You've now worked with some API calls, but we have yet to see how to retrieve a more complete dataset in a programmatic manner. In this lab, you will write a query of businesses on Yelp, then use *pagination* to retrieve all possible results for that query. Then you will create a summary of your findings, including a Folium map of the geographic locations of those businesses.\n",
    "\n",
    "### Technical Details\n",
    "\n",
    "Returning to the Yelp API, the [documentation](https://www.yelp.com/developers/documentation/v3/business_search) also provides us details regarding the **API limits**. These often include details about the number of requests a user is allowed to make within a specified time limit and the maximum number of results to be returned. In this case, we are told that any request has a **maximum of 50 results per request** and defaults to 20. Furthermore, any search will be limited to a **total of 1000 results**. To retrieve all 1000 of these results, we would have to page through the results piece by piece, retrieving 50 at a time. Processes such as these are often referred to as pagination.\n",
    "\n",
    "Also, be mindful of the **API** ***rate*** **limits**. You can only make **5000 requests per day** and are also can make requests too fast. Start prototyping small before running a loop that could be faulty. You can also use `time.sleep(n)` to add delays. For more details see https://www.yelp.com/developers/documentation/v3/rate_limiting.\n",
    "\n",
    "In this lab, you will define a search and then paginate over the results to retrieve all of the results. You'll then parse these responses as a list of dictionaries (for further exploration) and create a map using Folium to visualize the results geographically.\n",
    "\n",
    "### Requirements\n",
    "\n",
    "#### 1. Make the Initial Request\n",
    "\n",
    "Start by filling in your API key to make the initial request to the business search API. Investigate the structure of the response you get back and start figuring out how you will extract the relevant information.\n",
    "\n",
    "#### 2. Add Pagination\n",
    "\n",
    "Using loops and functions, collect the maximum number of results for your query from the API.\n",
    "\n",
    "#### 3. Perform Exploratory Analysis\n",
    "\n",
    "Interpret visualizations related to the price range, average rating, and number of reviews for all query results.\n",
    "\n",
    "#### 4. Create a Folium Map\n",
    "\n",
    "Using latitude and longitude data, plot the query results on an interactive map."
   ]
  },
  {
   "cell_type": "markdown",
   "metadata": {},
   "source": [
    "## 1. Make the Initial Request\n",
    "\n",
    "### Querying\n",
    "\n",
    "Start by making an initial request to the Yelp API. Your search must include at least 2 parameters: **term** and **location**. For example, you might search for pizza restaurants in NYC. The term and location is up to you but make the request below.\n",
    "\n",
    "Use the `requests` library ([documentation here](https://requests.readthedocs.io/en/master/user/quickstart/#make-a-request)).\n",
    "\n",
    "You'll also need an API key from Yelp. If you haven't done this already, go to the Yelp [Manage App page](https://www.yelp.com/developers/v3/manage_app) and create a new app (after making an account if you haven't already)."
   ]
  },
  {
   "cell_type": "code",
   "execution_count": 2,
   "metadata": {},
   "outputs": [
    {
     "data": {
      "text/plain": [
       "<Response [200]>"
      ]
     },
     "execution_count": 2,
     "metadata": {},
     "output_type": "execute_result"
    }
   ],
   "source": [
    "# Replace None with appropriate code\n",
    "\n",
    "# Import the requests library\n",
    "import requests\n",
    "\n",
    "# Get this from the \"Manage App\" page. Make sure you set them\n",
    "# back to None before pushing this to GitHub, since otherwise\n",
    "# your credentials will be compromised\n",
    "api_key = None\n",
    "\n",
    "\n",
    "# These can be whatever you want! But the solution uses \"pizza\"\n",
    "# and \"New York NY\" if you want to compare your work directly\n",
    "term = \"pizza\"\n",
    "location = \"New York NY\"\n",
    "\n",
    "# Set up params for request\n",
    "url = \"https://api.yelp.com/v3/businesses/search\"\n",
    "headers = {\n",
    "    \"Authorization\": \"Bearer {}\".format(api_key)\n",
    "}\n",
    "url_params = {\n",
    "    \"term\": term.replace(\" \", \"+\"),\n",
    "    \"location\": location.replace(\" \", \"+\")\n",
    "}\n",
    "\n",
    "# Make the request using requests.get, passing in\n",
    "# url, headers=headers, and params=url_params\n",
    "response = requests.get(url, headers= headers, params= url_params)\n",
    "\n",
    "# Confirm we got a 200 response\n",
    "response"
   ]
  },
  {
   "cell_type": "code",
   "execution_count": 3,
   "metadata": {},
   "outputs": [
    {
     "data": {
      "text/plain": [
       "dict_keys(['businesses', 'total', 'region'])"
      ]
     },
     "execution_count": 3,
     "metadata": {},
     "output_type": "execute_result"
    }
   ],
   "source": [
    "# Run this cell without changes\n",
    "\n",
    "# Get the response body in JSON format\n",
    "response_json = response.json()\n",
    "# View the keys\n",
    "response_json.keys()"
   ]
  },
  {
   "cell_type": "markdown",
   "metadata": {},
   "source": [
    "### Extracting Data\n",
    "\n",
    "Now, retrieve the value associated with the `'businesses'` key, and inspect its contents."
   ]
  },
  {
   "cell_type": "code",
   "execution_count": 4,
   "metadata": {},
   "outputs": [
    {
     "data": {
      "text/plain": [
       "[{'id': 'zj8Lq1T8KIC5zwFief15jg',\n",
       "  'alias': 'prince-street-pizza-new-york-2',\n",
       "  'name': 'Prince Street Pizza',\n",
       "  'image_url': 'https://s3-media3.fl.yelpcdn.com/bphoto/ZAukOyv530w4KjOHC5YY1w/o.jpg',\n",
       "  'is_closed': False,\n",
       "  'url': 'https://www.yelp.com/biz/prince-street-pizza-new-york-2?adjust_creative=lvVjNPbLHaVtCXnZv2F62w&utm_campaign=yelp_api_v3&utm_medium=api_v3_business_search&utm_source=lvVjNPbLHaVtCXnZv2F62w',\n",
       "  'review_count': 4305,\n",
       "  'categories': [{'alias': 'pizza', 'title': 'Pizza'},\n",
       "   {'alias': 'italian', 'title': 'Italian'}],\n",
       "  'rating': 4.5,\n",
       "  'coordinates': {'latitude': 40.72308755605564,\n",
       "   'longitude': -73.99453001177575},\n",
       "  'transactions': ['delivery', 'pickup'],\n",
       "  'price': '$',\n",
       "  'location': {'address1': '27 Prince St',\n",
       "   'address2': None,\n",
       "   'address3': '',\n",
       "   'city': 'New York',\n",
       "   'zip_code': '10012',\n",
       "   'country': 'US',\n",
       "   'state': 'NY',\n",
       "   'display_address': ['27 Prince St', 'New York, NY 10012']},\n",
       "  'phone': '+12129664100',\n",
       "  'display_phone': '(212) 966-4100',\n",
       "  'distance': 1961.8771417367063},\n",
       " {'id': 'ysqgdbSrezXgVwER2kQWKA',\n",
       "  'alias': 'julianas-brooklyn-3',\n",
       "  'name': \"Juliana's\",\n",
       "  'image_url': 'https://s3-media2.fl.yelpcdn.com/bphoto/clscwgOF9_Ecq-Rwsq7jyQ/o.jpg',\n",
       "  'is_closed': False,\n",
       "  'url': 'https://www.yelp.com/biz/julianas-brooklyn-3?adjust_creative=lvVjNPbLHaVtCXnZv2F62w&utm_campaign=yelp_api_v3&utm_medium=api_v3_business_search&utm_source=lvVjNPbLHaVtCXnZv2F62w',\n",
       "  'review_count': 2431,\n",
       "  'categories': [{'alias': 'pizza', 'title': 'Pizza'}],\n",
       "  'rating': 4.5,\n",
       "  'coordinates': {'latitude': 40.70274718768062,\n",
       "   'longitude': -73.99343490196397},\n",
       "  'transactions': ['delivery'],\n",
       "  'price': '$$',\n",
       "  'location': {'address1': '19 Old Fulton St',\n",
       "   'address2': '',\n",
       "   'address3': '',\n",
       "   'city': 'Brooklyn',\n",
       "   'zip_code': '11201',\n",
       "   'country': 'US',\n",
       "   'state': 'NY',\n",
       "   'display_address': ['19 Old Fulton St', 'Brooklyn, NY 11201']},\n",
       "  'phone': '+17185966700',\n",
       "  'display_phone': '(718) 596-6700',\n",
       "  'distance': 308.56984360837544}]"
      ]
     },
     "execution_count": 4,
     "metadata": {},
     "output_type": "execute_result"
    }
   ],
   "source": [
    "# Replace None with appropriate code\n",
    "\n",
    "# Retrieve the value from response_json\n",
    "businesses = response_json['businesses']\n",
    "# View the first 2 records\n",
    "businesses[:2]"
   ]
  },
  {
   "cell_type": "markdown",
   "metadata": {},
   "source": [
    "### Preparing Data\n",
    "\n",
    "Write a function `prepare_data` that takes in a list of dictionaries like `businesses` and returns a copy that has been prepared for analysis:\n",
    "\n",
    "1. The `coordinates` key-value pair has been converted into two separate key-value pairs, `latitude` and `longitude`\n",
    "2. All other key-value pairs except for `name`, `review_count`, `rating`, and `price` have been dropped\n",
    "3. All dictionaries missing one of the relevant keys or containing null values have been dropped\n",
    "\n",
    "In other words, the final keys for each dictionary should be `name`, `review_count`, `rating`, `price`, `latitude`, and `longitude`.\n",
    "\n",
    "Complete the function in the cell below:"
   ]
  },
  {
   "cell_type": "code",
   "execution_count": 14,
   "metadata": {},
   "outputs": [
    {
     "data": {
      "text/plain": [
       "[{'name': 'Prince Street Pizza',\n",
       "  'review_count': 4305,\n",
       "  'rating': 4.5,\n",
       "  'price': '$',\n",
       "  'latitude': 40.72308755605564,\n",
       "  'longitude': -73.99453001177575},\n",
       " {'name': \"Juliana's\",\n",
       "  'review_count': 2431,\n",
       "  'rating': 4.5,\n",
       "  'price': '$$',\n",
       "  'latitude': 40.70274718768062,\n",
       "  'longitude': -73.99343490196397},\n",
       " {'name': \"Lombardi's Pizza\",\n",
       "  'review_count': 6304,\n",
       "  'rating': 4.0,\n",
       "  'price': '$$',\n",
       "  'latitude': 40.7215934960083,\n",
       "  'longitude': -73.9955956044561},\n",
       " {'name': 'Lucali',\n",
       "  'review_count': 1787,\n",
       "  'rating': 4.0,\n",
       "  'price': '$$',\n",
       "  'latitude': 40.6818,\n",
       "  'longitude': -74.00024},\n",
       " {'name': 'Rubirosa',\n",
       "  'review_count': 2629,\n",
       "  'rating': 4.5,\n",
       "  'price': '$$',\n",
       "  'latitude': 40.722766,\n",
       "  'longitude': -73.996233}]"
      ]
     },
     "execution_count": 14,
     "metadata": {},
     "output_type": "execute_result"
    }
   ],
   "source": [
    "# Replace None with appropriate code\n",
    "\n",
    "def prepare_data(data_list):\n",
    "    \"\"\"\n",
    "    This function takes in a list of dictionaries and prepares it\n",
    "    for analysis\n",
    "    \"\"\"\n",
    "    \n",
    "    # Make a new list to hold results\n",
    "    results = []\n",
    "    \n",
    "    for business_data in data_list:\n",
    "    \n",
    "        # Make a new dictionary to hold prepared data for this business\n",
    "        prepared_data = {}\n",
    "        \n",
    "        # Extract name, review_count, rating, and price key-value pairs\n",
    "        # from business_data and add to prepared_data\n",
    "        # If a key is not present in business_data, add it to prepared_data\n",
    "        # with an associated value of None\n",
    "        for key in ('name', 'review_count', 'rating', 'price'):\n",
    "            prepared_data[key] = business_data.get(key)\n",
    "    \n",
    "        # Parse and add latitude and longitude columns\n",
    "        prepared_data['latitude'] = business_data['coordinates']['latitude']\n",
    "        prepared_data['longitude'] = business_data['coordinates']['longitude']\n",
    "        \n",
    "        # Add to list if all values are present\n",
    "        if all(prepared_data.values()):\n",
    "            results.append(prepared_data)\n",
    "    \n",
    "    return results\n",
    "    \n",
    "# Test out function\n",
    "prepared_businesses = prepare_data(businesses)\n",
    "prepared_businesses[:5]"
   ]
  },
  {
   "cell_type": "markdown",
   "metadata": {},
   "source": [
    "Check that your function created the correct keys:"
   ]
  },
  {
   "cell_type": "code",
   "execution_count": 15,
   "metadata": {},
   "outputs": [],
   "source": [
    "# Run this cell without changes\n",
    "\n",
    "assert sorted(list(prepared_businesses[0].keys())) == ['latitude', 'longitude', 'name', 'price', 'rating', 'review_count']"
   ]
  },
  {
   "cell_type": "markdown",
   "metadata": {},
   "source": [
    "The following code will differ depending on your query, but we expect there to be 20 businesses in the original list, and potentially fewer in the prepared list (if any of them were missing data):"
   ]
  },
  {
   "cell_type": "code",
   "execution_count": 16,
   "metadata": {},
   "outputs": [
    {
     "name": "stdout",
     "output_type": "stream",
     "text": [
      "Original: 20\n",
      "Prepared: 20\n"
     ]
    }
   ],
   "source": [
    "# Run this cell without changes\n",
    "print(\"Original:\", len(businesses))\n",
    "print(\"Prepared:\", len(prepared_businesses))"
   ]
  },
  {
   "cell_type": "markdown",
   "metadata": {},
   "source": [
    "Great! We will reuse this function once we have retrieved the full dataset."
   ]
  },
  {
   "cell_type": "markdown",
   "metadata": {},
   "source": [
    "## 2. Add Pagination\n",
    "\n",
    "Now that you are able to extract information from one page of the response, let's figure out how to request as many pages as possible.\n",
    "\n",
    "### Determining the Total\n",
    "\n",
    "Depending on the number of total results for your query, you will either retrieve all of the results, or just the first 1000 (if there are more than 1000 total).\n",
    "\n",
    "We can find the total number of results using the `\"total\"` key:"
   ]
  },
  {
   "cell_type": "code",
   "execution_count": 17,
   "metadata": {},
   "outputs": [
    {
     "data": {
      "text/plain": [
       "12000"
      ]
     },
     "execution_count": 17,
     "metadata": {},
     "output_type": "execute_result"
    }
   ],
   "source": [
    "# Run this cell without changes\n",
    "response_json[\"total\"]"
   ]
  },
  {
   "cell_type": "markdown",
   "metadata": {},
   "source": [
    "(This is specific to the implementation of the Yelp API. Some APIs will just tell you that there are more pages, or will tell you the number of pages total, rather than the total number of results. If you're not sure, always check the documentation.)\n",
    "\n",
    "In the cell below, assign the variable `total` to either the value shown above (if it is less than 1000), or 1000."
   ]
  },
  {
   "cell_type": "code",
   "execution_count": 19,
   "metadata": {},
   "outputs": [
    {
     "data": {
      "text/plain": [
       "1000"
      ]
     },
     "execution_count": 19,
     "metadata": {},
     "output_type": "execute_result"
    }
   ],
   "source": [
    "# Replace None with appropriate code\n",
    "total = 1000 \n",
    "total"
   ]
  },
  {
   "cell_type": "markdown",
   "metadata": {},
   "source": [
    "### Calculating the Offsets\n",
    "\n",
    "The documentation states in the parameters section:\n",
    "\n",
    "> **Name**: `limit`, **Type:** int, **Description:** Optional. Number of business results to return. By default, it will return 20. Maximum is 50.\n",
    "\n",
    "> **Name**: `offset`, **Type:** int, **Description:** Optional. Offset the list of returned business results by this amount.\n",
    "\n",
    "So, to get the most results with the fewest API calls we want to set a limit of 50 every time. If, say, we wanted to get 210 total results, that would mean:\n",
    "\n",
    "1. Offset of `0` (first 50 records)\n",
    "2. Offset of `50` (second 50 records)\n",
    "3. Offset of `100` (third 50 records)\n",
    "4. Offset of `150` (fourth 50 records)\n",
    "5. Offset of `200` (final 10 records)\n",
    "\n",
    "In the cell below, create a function `get_offsets` that takes in a total and returns a list of offsets for that total. You can assume that there is a limit of 50 every time.\n",
    "\n",
    "*Hint: you can use `range` ([documentation here](https://docs.python.org/3.3/library/stdtypes.html?highlight=range#range)) to do this in one line of code. Just make the returned result is a list.*"
   ]
  },
  {
   "cell_type": "code",
   "execution_count": 28,
   "metadata": {},
   "outputs": [],
   "source": [
    "# Replace None with appropriate code\n",
    "def get_offsets(total):\n",
    "    \"\"\"\n",
    "    Get a list of offsets needed to get all pages\n",
    "    of data up until the total\n",
    "    \"\"\"\n",
    "    offsets = list(range(0, total, 50))\n",
    "    return offsets"
   ]
  },
  {
   "cell_type": "code",
   "execution_count": 29,
   "metadata": {},
   "outputs": [
    {
     "data": {
      "text/plain": [
       "[0,\n",
       " 50,\n",
       " 100,\n",
       " 150,\n",
       " 200,\n",
       " 250,\n",
       " 300,\n",
       " 350,\n",
       " 400,\n",
       " 450,\n",
       " 500,\n",
       " 550,\n",
       " 600,\n",
       " 650,\n",
       " 700,\n",
       " 750,\n",
       " 800,\n",
       " 850,\n",
       " 900,\n",
       " 950]"
      ]
     },
     "execution_count": 29,
     "metadata": {},
     "output_type": "execute_result"
    }
   ],
   "source": [
    "get_offsets(total)"
   ]
  },
  {
   "cell_type": "markdown",
   "metadata": {},
   "source": [
    "Check that your function works below:"
   ]
  },
  {
   "cell_type": "code",
   "execution_count": 30,
   "metadata": {},
   "outputs": [],
   "source": [
    "# Run this cell without changes\n",
    "\n",
    "assert get_offsets(200) == [0, 50, 100, 150]\n",
    "assert get_offsets(210) == [0, 50, 100, 150, 200]"
   ]
  },
  {
   "cell_type": "markdown",
   "metadata": {},
   "source": [
    "### Putting It All Together\n",
    "\n",
    "Recall that the following variable has already been declared for you:"
   ]
  },
  {
   "cell_type": "code",
   "execution_count": 31,
   "metadata": {},
   "outputs": [
    {
     "data": {
      "text/plain": [
       "{'term': 'pizza', 'location': 'New+York+NY'}"
      ]
     },
     "execution_count": 31,
     "metadata": {},
     "output_type": "execute_result"
    }
   ],
   "source": [
    "# Run this cell without changes\n",
    "url_params"
   ]
  },
  {
   "cell_type": "markdown",
   "metadata": {},
   "source": [
    "We'll go ahead and also specify that the limit should be 50 every time:"
   ]
  },
  {
   "cell_type": "code",
   "execution_count": 32,
   "metadata": {},
   "outputs": [],
   "source": [
    "# Run this cell without changes\n",
    "url_params[\"limit\"] = 50"
   ]
  },
  {
   "cell_type": "markdown",
   "metadata": {},
   "source": [
    "In order to modify the offset, you'll need to add it to `url_params` with the key `\"offset\"` and whatever value is needed.\n",
    "\n",
    "In the cell below, write code that:\n",
    "\n",
    "* Creates an empty list for the full prepared dataset\n",
    "* Loops over all of the offsets from `get_offsets` and makes an API call each time with the specified offset\n",
    "* Calls `prepare_data` to get a cleaned version of the result of each API call\n",
    "* Extends the full prepared dataset list with each query's prepared dataset"
   ]
  },
  {
   "cell_type": "code",
   "execution_count": 33,
   "metadata": {},
   "outputs": [
    {
     "data": {
      "text/plain": [
       "795"
      ]
     },
     "execution_count": 33,
     "metadata": {},
     "output_type": "execute_result"
    }
   ],
   "source": [
    "# Replace None with appropriate code\n",
    "\n",
    "# Create an empty list for the full prepared dataset\n",
    "full_dataset = []\n",
    "\n",
    "for offset in get_offsets(total):\n",
    "    # Add or update the \"offset\" key-value pair in url_params\n",
    "    url_params['offset'] = offset \n",
    "    \n",
    "    # Make the query and get the response\n",
    "    response = requests.get(url, headers=headers, params=url_params)\n",
    "    \n",
    "    # Get the response body in JSON format\n",
    "    response_json = response.json()\n",
    "    \n",
    "    # Get the list of businesses from the response_json\n",
    "    businesses = response_json['businesses']\n",
    "    \n",
    "    # Call the prepare_data function to get a list of processed data\n",
    "    prepared_businesses = prepare_data(businesses)\n",
    "    \n",
    "    # Extend full_dataset with this list (don't append, or you'll get\n",
    "    # a list of lists instead of a flat list)\n",
    "    full_dataset.extend(prepared_businesses)\n",
    "\n",
    "# Check the length of the full dataset. It will be up to `total`,\n",
    "# potentially less if there were missing values\n",
    "len(full_dataset)"
   ]
  },
  {
   "cell_type": "code",
   "execution_count": 44,
   "metadata": {},
   "outputs": [
    {
     "data": {
      "text/plain": [
       "{'name': 'Prince Street Pizza',\n",
       " 'review_count': 4305,\n",
       " 'rating': 4.5,\n",
       " 'price': '$',\n",
       " 'latitude': 40.72308755605564,\n",
       " 'longitude': -73.99453001177575}"
      ]
     },
     "execution_count": 44,
     "metadata": {},
     "output_type": "execute_result"
    }
   ],
   "source": [
    "full_dataset[0]"
   ]
  },
  {
   "cell_type": "markdown",
   "metadata": {},
   "source": [
    "This code may take up to a few minutes to run.\n",
    "\n",
    "If you get an error trying to get the response body in JSON format, try adding `time.sleep(1)` right after the `requests.get` line, so your code will sleep for 1 second between each API call."
   ]
  },
  {
   "cell_type": "markdown",
   "metadata": {},
   "source": [
    "## 3. Perform Exploratory Analysis\n",
    "\n",
    "Take the businesses from the previous question and do an initial exploratory analysis. We have provided some plots for you to interpret:"
   ]
  },
  {
   "cell_type": "code",
   "execution_count": 34,
   "metadata": {},
   "outputs": [
    {
     "data": {
      "image/png": "[encoded data removed]",
      "text/plain": [
       "<Figure size 1152x360 with 3 Axes>"
      ]
     },
     "metadata": {
      "needs_background": "light"
     },
     "output_type": "display_data"
    }
   ],
   "source": [
    "# Run this cell without changes\n",
    "from collections import Counter\n",
    "import matplotlib.pyplot as plt\n",
    "%matplotlib inline\n",
    "\n",
    "fig, (ax1, ax2, ax3) = plt.subplots(ncols=3, figsize=(16, 5))\n",
    "\n",
    "# Plot distribution of number of reviews\n",
    "all_review_counts = [x[\"review_count\"] for x in full_dataset]\n",
    "ax1.hist(all_review_counts)\n",
    "ax1.set_title(\"Review Count Distribution\")\n",
    "ax1.set_xlabel(\"Number of Reviews\")\n",
    "ax1.set_ylabel(\"Number of Businesses\")\n",
    "\n",
    "# Plot rating distribution\n",
    "all_ratings = [x[\"rating\"] for x in full_dataset]\n",
    "rating_counter = Counter(all_ratings)\n",
    "rating_keys = sorted(rating_counter.keys())\n",
    "ax2.bar(rating_keys, [rating_counter[key] for key in rating_keys])\n",
    "ax2.set_title(\"Rating Distribution\")\n",
    "ax2.set_xlabel(\"Rating\")\n",
    "ax2.set_ylabel(\"Number of Businesses\")\n",
    "\n",
    "# Plot price distribution\n",
    "all_prices = [x[\"price\"].replace(\"$\", r\"\\$\") for x in full_dataset]\n",
    "price_counter = Counter(all_prices)\n",
    "price_keys = sorted(price_counter.keys())\n",
    "ax3.bar(price_keys, [price_counter[key] for key in price_keys])\n",
    "ax3.set_title(\"Price Distribution\")\n",
    "ax3.set_xlabel(\"Price Category\")\n",
    "ax3.set_ylabel(\"Number of Businesses\");"
   ]
  },
  {
   "cell_type": "markdown",
   "metadata": {},
   "source": [
    "Describe the distributions displayed above and interpret them in the context of your query. (Your answer may differ from the solution branch depending on your query.)"
   ]
  },
  {
   "cell_type": "code",
   "execution_count": null,
   "metadata": {},
   "outputs": [],
   "source": [
    "# Replace None with appropriate text\n",
    "\"\"\"\n",
    "What is the relationship between the number of businesses and number of reviews, rating and price category?\n",
    "\n",
    "From the Review Count Distribution graph, majority of the businesses fall below 1000 in terms of number of reviews.\n",
    "Some have raked in about 6000 reviews. It is safe to say that alot businesses do not have many reviews.\n",
    "\n",
    "In the rating distribution graph, many businesses have a high rating of 4, while a few are distributed between 2.5 and 5.\n",
    "\n",
    "Many businesses fall in the lower price category with very few on the more expensive side.\n",
    "This is a very good strategy so as to attract as many customers and remain as affordable as possible.\n",
    "\"\"\""
   ]
  },
  {
   "cell_type": "markdown",
   "metadata": {},
   "source": [
    "In the cell below, we also plot the rating distributions by price. In this setup, a price of one dollar sign is \"lower price\" and everything else is \"higher price\"."
   ]
  },
  {
   "cell_type": "code",
   "execution_count": 35,
   "metadata": {},
   "outputs": [
    {
     "data": {
      "image/png": "[encoded data removed]",
      "text/plain": [
       "<Figure size 432x288 with 1 Axes>"
      ]
     },
     "metadata": {
      "needs_background": "light"
     },
     "output_type": "display_data"
    }
   ],
   "source": [
    "# Run this cell without changes\n",
    "\n",
    "higher_price = []\n",
    "lower_price = []\n",
    "for row in full_dataset:\n",
    "    if row[\"price\"] == \"$\":\n",
    "        lower_price.append(row[\"rating\"])\n",
    "    else:\n",
    "        higher_price.append(row[\"rating\"])\n",
    "        \n",
    "fig, ax = plt.subplots()\n",
    "\n",
    "ax.hist([higher_price, lower_price], label=[\"higher price\", \"lower price\"], density=True)\n",
    "\n",
    "ax.legend();"
   ]
  },
  {
   "cell_type": "markdown",
   "metadata": {},
   "source": [
    "Is a higher price associated with a higher rating? (No need for any additional math/statistics, just interpret what you see in the plot.)"
   ]
  },
  {
   "cell_type": "code",
   "execution_count": null,
   "metadata": {},
   "outputs": [],
   "source": [
    "# Replace None with appropriate text\n",
    "\"\"\"\n",
    "Yes. As the rating increases, the price also increases.\n",
    "Lower ratings contribute to a lower price.\n",
    "\"\"\""
   ]
  },
  {
   "cell_type": "markdown",
   "metadata": {},
   "source": [
    "Finally, let's look at ratings vs. review counts:"
   ]
  },
  {
   "cell_type": "code",
   "execution_count": 36,
   "metadata": {},
   "outputs": [
    {
     "data": {
      "image/png": "[encoded data removed]",
      "text/plain": [
       "<Figure size 1152x360 with 1 Axes>"
      ]
     },
     "metadata": {
      "needs_background": "light"
     },
     "output_type": "display_data"
    }
   ],
   "source": [
    "# Run this cell without changes\n",
    "fig, ax = plt.subplots(figsize=(16,5))\n",
    "\n",
    "ax.scatter(all_review_counts, all_ratings, alpha=0.2)\n",
    "ax.set_xlabel(\"Number of Reviews\")\n",
    "ax.set_ylabel(\"Rating\")\n",
    "# \"zoom in\" to a subset of review counts\n",
    "ax.set_xlim(left=0, right=1000);"
   ]
  },
  {
   "cell_type": "markdown",
   "metadata": {},
   "source": [
    "Is a higher number of reviews associated with a higher rating?"
   ]
  },
  {
   "cell_type": "code",
   "execution_count": null,
   "metadata": {},
   "outputs": [],
   "source": [
    "# Replace None with appropriate text\n",
    "\"\"\"\n",
    "It is difficult to tell. Rating 3 and 5 have almost the same number of reviews. It is therefore difficult to conclude\n",
    "whether the number of reviews is associated with a higher rating. While rating 3.5 and 4 prove to differ\n",
    "with a higher number of reviews.\n",
    "\"\"\""
   ]
  },
  {
   "cell_type": "markdown",
   "metadata": {},
   "source": [
    "## 4. Create a Folium Map\n",
    "\n",
    "Make a map using Folium of the businesses you retrieved. Be sure to also add popups to the markers giving some basic information such as name, rating and price.\n",
    "\n",
    "You can center the map around the latitude and longitude of the first item in `full_dataset`."
   ]
  },
  {
   "cell_type": "code",
   "execution_count": 47,
   "metadata": {},
   "outputs": [
    {
     "data": {
      "text/html": [
       "<div style=\"width:100%;\"><div style=\"position:relative;width:100%;height:0;padding-bottom:60%;\"><span style=\"color:#565656\">Make this Notebook Trusted to load map: File -> Trust Notebook</span><iframe src=\"about:blank\" style=\"position:absolute;width:100%;height:100%;left:0;top:0;border:none !important;\" data-html=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 onload=\"this.contentDocument.open();this.contentDocument.write(atob(this.getAttribute('data-html')));this.contentDocument.close();\" allowfullscreen webkitallowfullscreen mozallowfullscreen></iframe></div></div>"
      ],
      "text/plain": [
       "<folium.folium.Map at 0x14255d65ca0>"
      ]
     },
     "execution_count": 47,
     "metadata": {},
     "output_type": "execute_result"
    }
   ],
   "source": [
    "# Replace None with appropriate code\n",
    "\n",
    "# Import the library\n",
    "import folium\n",
    "\n",
    "# Set up center latitude and longitude\n",
    "center_lat = full_dataset[0]['latitude']\n",
    "center_long = full_dataset[0]['longitude']\n",
    "\n",
    "# Initialize map with center lat and long\n",
    "yelp_map = folium.Map([center_lat, center_long], zoom_start= 15)\n",
    "\n",
    "# Adjust this limit to see more or fewer businesses\n",
    "limit=50\n",
    "\n",
    "for business in full_dataset[:limit]:\n",
    "    # Extract information about business\n",
    "    lat = business['latitude']\n",
    "    long = business['longitude']\n",
    "    name = business['name']\n",
    "    rating = business['rating']\n",
    "    price = business['price']\n",
    "    details = \"{}\\nPrice: {} Rating:{}\".format(name,price,rating)\n",
    "    \n",
    "    # Create popup with relevant details\n",
    "    popup_text = \"Latitude: {}, Longitude: {}\".format(lat,long) + details\n",
    "    popup = folium.Popup(popup_text, parse_html = True)\n",
    "    \n",
    "    # Create marker with relevant lat/long and popup\n",
    "    marker = folium.Marker(location = [lat, long], popup = popup)\n",
    "    \n",
    "    marker.add_to(yelp_map)\n",
    "    \n",
    "yelp_map"
   ]
  },
  {
   "cell_type": "markdown",
   "metadata": {},
   "source": [
    "## Summary\n",
    "\n",
    "Nice work! In this lab, you've made multiple API calls to Yelp in order to paginate through a results set, performing some basic exploratory analysis and then creating a nice interactive map to display the results using Folium! Well done!"
   ]
  }
 ],
 "metadata": {
  "kernelspec": {
   "display_name": "Python (learn-env)",
   "language": "python",
   "name": "learn-env"
  },
  "language_info": {
   "codemirror_mode": {
    "name": "ipython",
    "version": 3
   },
   "file_extension": ".py",
   "mimetype": "text/x-python",
   "name": "python",
   "nbconvert_exporter": "python",
   "pygments_lexer": "ipython3",
   "version": "3.8.5"
  },
  "toc": {
   "base_numbering": 1,
   "nav_menu": {},
   "number_sections": true,
   "sideBar": true,
   "skip_h1_title": false,
   "title_cell": "Table of Contents",
   "title_sidebar": "Contents",
   "toc_cell": false,
   "toc_position": {},
   "toc_section_display": true,
   "toc_window_display": false
  }
 },
 "nbformat": 4,
 "nbformat_minor": 2
}
